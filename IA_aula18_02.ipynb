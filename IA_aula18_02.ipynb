{
  "nbformat": 4,
  "nbformat_minor": 0,
  "metadata": {
    "colab": {
      "name": "IA-aula18/02.ipynb",
      "provenance": [],
      "collapsed_sections": [],
      "authorship_tag": "ABX9TyNczGbM4wpaZj79izdWWmuW",
      "include_colab_link": true
    },
    "kernelspec": {
      "name": "python3",
      "display_name": "Python 3"
    },
    "language_info": {
      "name": "python"
    }
  },
  "cells": [
    {
      "cell_type": "markdown",
      "metadata": {
        "id": "view-in-github",
        "colab_type": "text"
      },
      "source": [
        "<a href=\"https://colab.research.google.com/github/DiogoToshikazo/IAinColab/blob/main/IA_aula18_02.ipynb\" target=\"_parent\"><img src=\"https://colab.research.google.com/assets/colab-badge.svg\" alt=\"Open In Colab\"/></a>"
      ]
    },
    {
      "cell_type": "markdown",
      "source": [
        "#Linear Reduction"
      ],
      "metadata": {
        "id": "R-bTvYqzYKTM"
      }
    },
    {
      "cell_type": "code",
      "source": [
        "#importando as bibliotecas\n",
        "import numpy as np\n",
        "from pylab import * "
      ],
      "metadata": {
        "id": "Oqd39f9CEa7D"
      },
      "execution_count": 22,
      "outputs": []
    },
    {
      "cell_type": "code",
      "execution_count": 23,
      "metadata": {
        "id": "U58Nqbq6O0k-"
      },
      "outputs": [],
      "source": [
        "#criando os arrays\n",
        "x = np.array([23,21,25,22,22,21])\n",
        "y = np.array([1.71,1.69,1.7,1.78,1.86,1.7])\n",
        "#criando médias\n",
        "xmean = np.mean(x)\n",
        "ymean = np.mean(y)"
      ]
    },
    {
      "cell_type": "code",
      "source": [
        "#aula 24/02\n",
        "#Encontrando a reta da regressão linear\n",
        "#variáveis auxiliares para armazenar as subtrações\n",
        "sub1 = x-xmean\n",
        "sub2 = y-ymean\n",
        "#elevando ao quadrado as subtrações\n",
        "mult1 = sub1*sub2\n",
        "mult2 = sub1*sub1\n",
        "#fazendo a somatória dos quadrados \n",
        "sum1 = mult1.sum()\n",
        "sum2 = mult2.sum()\n",
        "#encontrando beta e alfa\n",
        "b = sum1/sum2\n",
        "a = ymean + (b*xmean)\n",
        "#encontrando y chapéu\n",
        "ypredict = a - (b*x)\n",
        "#colocando nos gráficos\n",
        "plot(x,y,'.')\n",
        "plot(x,ypredict)"
      ],
      "metadata": {
        "id": "xiBrXIu6sdHE",
        "colab": {
          "base_uri": "https://localhost:8080/",
          "height": 282
        },
        "outputId": "f6a5f31a-a6a9-485b-f811-4af43b990a29"
      },
      "execution_count": 24,
      "outputs": [
        {
          "output_type": "execute_result",
          "data": {
            "text/plain": [
              "[<matplotlib.lines.Line2D at 0x7f650c87b150>]"
            ]
          },
          "metadata": {},
          "execution_count": 24
        },
        {
          "output_type": "display_data",
          "data": {
            "image/png": "[encoded data removed]",
            "text/plain": [
              "<Figure size 432x288 with 1 Axes>"
            ]
          },
          "metadata": {
            "needs_background": "light"
          }
        }
      ]
    },
    {
      "cell_type": "markdown",
      "source": [
        "#Medida de qualidade\n",
        "R² ou R2-Coeficiente de determinação\n",
        "R² = 1 - (SQE/SQT)\n",
        "\n",
        "Onde: SQE-Somatória dos quadrados exemplares\n",
        "      SQT-Somatória dos quadrados Total\n",
        "\n",
        "Então R² fica entre 0 e 1, quanto mais próximo de 1 melhor.\n",
        "Se R² for menor que 0,5 a regressão está muito ruim"
      ],
      "metadata": {
        "id": "9R7TQoNIPJ5U"
      }
    },
    {
      "cell_type": "code",
      "source": [
        "#R2\n",
        "#subtração das equações\n",
        "yn = ypredict - ymean\n",
        "yr  = y - ypredict\n",
        "#elevando ao quadrado as somatórias\n",
        "mult3 = yn*yn\n",
        "mult4 = sub2*sub2\n",
        "mult5 = yr*yr\n",
        "#calculando sqe, sqr, sqt\n",
        "sqr = mult5.sum()\n",
        "sqe = mult3.sum()\n",
        "sqt = mult4.sum()\n",
        "#calculando R\n",
        "R = (sqe/sqt)\n",
        "R"
      ],
      "metadata": {
        "colab": {
          "base_uri": "https://localhost:8080/",
          "height": 0
        },
        "id": "_rtzFf06FhH3",
        "outputId": "074d1f13-86a3-465f-b5ce-32d9f22da1d9"
      },
      "execution_count": 25,
      "outputs": [
        {
          "output_type": "execute_result",
          "data": {
            "text/plain": [
              "0.014055179593961476"
            ]
          },
          "metadata": {},
          "execution_count": 25
        }
      ]
    },
    {
      "cell_type": "code",
      "source": [
        "#dia-25/02/2022\n",
        "#utilizando scikit learn\n",
        "from sklearn import linear_model\n",
        "from sklearn.metrics import r2_score"
      ],
      "metadata": {
        "id": "sAoVSPEWFfaP"
      },
      "execution_count": 26,
      "outputs": []
    },
    {
      "cell_type": "code",
      "source": [
        "#remodelando x para utilizar a biblioteca\n",
        "x = x.reshape(6,1)\n",
        "#criando uma variável que chamará a biblioteca\n",
        "reg = linear_model.LinearRegression()\n",
        "#preenchendo os valores de x e y da biblioteca\n",
        "reg.fit(x,y)\n",
        "#calculando y chapéu\n",
        "y_guess = reg.predict(x)\n",
        "print('A equação da regreção linear: %.4f + (%.4f) * x' %(reg.intercept_,reg.coef_))"
      ],
      "metadata": {
        "id": "7kWA9FaDGL23",
        "colab": {
          "base_uri": "https://localhost:8080/",
          "height": 0
        },
        "outputId": "85fcf6ca-8172-4987-dd1a-7ea0fbc0b6fd"
      },
      "execution_count": 27,
      "outputs": [
        {
          "output_type": "stream",
          "name": "stdout",
          "text": [
            "A equação da regreção linear: 1.8582 + (-0.0053) * x\n"
          ]
        }
      ]
    },
    {
      "cell_type": "code",
      "source": [
        "#encontrando r² pela biblioteca\n",
        "r2_score(y,y_guess)"
      ],
      "metadata": {
        "colab": {
          "base_uri": "https://localhost:8080/",
          "height": 0
        },
        "id": "N8H_Bda4IdP5",
        "outputId": "298d90a9-2789-4cc5-b63b-0de9e898e645"
      },
      "execution_count": 28,
      "outputs": [
        {
          "output_type": "execute_result",
          "data": {
            "text/plain": [
              "0.014055179593961187"
            ]
          },
          "metadata": {},
          "execution_count": 28
        }
      ]
    }
  ]
}